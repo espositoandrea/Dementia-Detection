{
  "nbformat": 4,
  "nbformat_minor": 0,
  "metadata": {
    "colab": {
      "name": "run-all.ipynb",
      "provenance": [],
      "collapsed_sections": []
    },
    "kernelspec": {
      "name": "python3",
      "display_name": "Python 3"
    },
    "language_info": {
      "name": "python"
    },
    "accelerator": "GPU"
  },
  "cells": [
    {
      "cell_type": "code",
      "metadata": {
        "colab": {
          "base_uri": "https://localhost:8080/"
        },
        "id": "jP3PSoU53T_n",
        "outputId": "06976774-e58c-4dc5-cff8-fe8ee5107916"
      },
      "source": [
        "from pathlib import Path\n",
        "# Cloning the repository\n",
        "! git clone https://github.com/se4ai2122-cs-uniba/Dementia-Detection\n",
        "REPO_DIR = Path(\"/content/Dementia-Detection\")"
      ],
      "execution_count": null,
      "outputs": [
        {
          "output_type": "stream",
          "name": "stdout",
          "text": [
            "Cloning into 'Dementia-Detection'...\n",
            "remote: Enumerating objects: 196, done.\u001b[K\n",
            "remote: Counting objects: 100% (196/196), done.\u001b[K\n",
            "remote: Compressing objects: 100% (138/138), done.\u001b[K\n",
            "remote: Total 196 (delta 84), reused 153 (delta 45), pack-reused 0\u001b[K\n",
            "Receiving objects: 100% (196/196), 1.20 MiB | 2.35 MiB/s, done.\n",
            "Resolving deltas: 100% (84/84), done.\n"
          ]
        }
      ]
    },
    {
      "cell_type": "code",
      "metadata": {
        "id": "2XZ-6Waz29V4"
      },
      "source": [
        "!pip install dvc\n",
        "!pip install \"dvc[gdrive]\"\n",
        "! cd $REPO_DIR; dvc pull"
      ],
      "execution_count": null,
      "outputs": []
    },
    {
      "cell_type": "code",
      "metadata": {
        "colab": {
          "base_uri": "https://localhost:8080/"
        },
        "id": "94V1jouuEP_t",
        "outputId": "5f94ddb7-379e-4a6e-a22a-dd1e5d1948d0"
      },
      "source": [
        "!cd $REPO_DIR; dvc repro"
      ],
      "execution_count": null,
      "outputs": [
        {
          "output_type": "stream",
          "name": "stdout",
          "text": [
            "\r!\rIf DVC froze, see `hardlink_lock` in <\u001b[36mhttps://man.dvc.org/config#core\u001b[39m>\r                                                                      \r'data/csv.dvc' didn't change, skipping\n",
            "Stage 'labelling' didn't change, skipping\n",
            "'data/raw.dvc' didn't change, skipping\n",
            "Stage 'prepare' didn't change, skipping\n",
            "Data and pipelines are up to date.\n",
            "\u001b[0m"
          ]
        }
      ]
    }
  ]
}